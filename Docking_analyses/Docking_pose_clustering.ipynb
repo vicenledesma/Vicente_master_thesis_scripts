{
 "cells": [
  {
   "cell_type": "markdown",
   "id": "6477e4ff",
   "metadata": {},
   "source": [
    "# Pose clustering of docking results\n",
    "## 0. Information and code from:\n",
    "<a id = 'references'></a>\n",
    "1. https://chem-workflows.com/articles/2019/06/24/pose-clustering-of-docking-results/\n",
    "2. https://joernhees.de/blog/2015/08/26/scipy-hierarchical-clustering-and-dendrogram-tutorial/\n",
    "3. https://www.analyticsvidhya.com/blog/2021/06/single-link-hierarchical-clustering-clearly-explained/\n",
    "4. http://cda.psych.uiuc.edu/multivariate_fall_2013/matlab_help/cluster_analysis.pdf\n",
    "5. https://chem-workflows.com/articles/2019/07/18/building-a-multi-molecule-mol2-reader-for-rdkit/\n",
    "\n",
    "## 1. Libraries"
   ]
  },
  {
   "cell_type": "code",
   "execution_count": null,
   "id": "e06af8ea",
   "metadata": {},
   "outputs": [],
   "source": [
    "import os\n",
    "\n",
    "# RDKit\n",
    "from rdkit import Chem\n",
    "from rdkit.Chem import rdFMCS,AllChem, Draw\n",
    "from rdkit.Chem.Draw import DrawingOptions\n",
    "from rdkit.Chem.Draw import IPythonConsole\n",
    "\n",
    "# Other powerful Python libraries\n",
    "import numpy as np\n",
    "import math\n",
    "import pandas as pd\n",
    "from matplotlib import pyplot as plt\n",
    "from matplotlib import gridspec\n",
    "import seaborn as sns\n",
    "\n",
    "# Clustering\n",
    "from scipy import spatial\n",
    "from scipy.cluster import hierarchy\n",
    "from scipy.cluster.hierarchy import dendrogram, linkage, cophenet, fcluster, inconsistent\n",
    "from scipy.spatial.distance import pdist"
   ]
  },
  {
   "cell_type": "markdown",
   "id": "26d75c4f",
   "metadata": {},
   "source": [
    "## 2. Fix wonky connectivity and visualize\n",
    "Connectivity fix from: https://bioinformatics.stackexchange.com/questions/15877/is-it-possible-to-correct-bond-order-and-conectivity-problems-in-an-sdf-file-acc"
   ]
  },
  {
   "cell_type": "code",
   "execution_count": null,
   "id": "f79fe1be",
   "metadata": {},
   "outputs": [],
   "source": [
    "%%capture --no-display\n",
    "\n",
    "goodconn = Chem.MolFromSmiles() # Ligand SMILES to fix\n",
    "                                # wonky connectivity\n",
    "\n",
    "poses = Chem.SDMolSupplier('poses.sdf') # File with all docking poses in SDF format\n",
    "renamed_poses = []\n",
    "\n",
    "for index,p in enumerate(poses):\n",
    "    \n",
    "    fixed_mol = AllChem.AssignBondOrdersFromTemplate(goodconn, p) # This fixes the wonky connectivity from the\n",
    "                                                                  # pdbqt -> mol2 conversion\n",
    "    fixed_mol.SetProp('_Name', str(index+1))\n",
    "    renamed_poses.append(fixed_mol)\n",
    "        \n",
    "# If all molecules are correct (sanitized), Draw.MolsToGridImage must work \n",
    "img = Draw.MolsToGridImage(renamed_poses,\n",
    "                           molsPerRow = (5),\n",
    "                           legends = [i.GetProp('_Name') for i in renamed_poses],\n",
    "                           useSVG = False,\n",
    "                           maxMols = 100)\n",
    "img"
   ]
  },
  {
   "cell_type": "markdown",
   "id": "c6d15e50",
   "metadata": {},
   "source": [
    "## 3. RMSD in place calculation: using the RMSD formula from Wikipedia"
   ]
  },
  {
   "cell_type": "code",
   "execution_count": null,
   "id": "b8105b86",
   "metadata": {},
   "outputs": [],
   "source": [
    "size=len(renamed_poses)\n",
    "hmap=np.empty(shape=(size,size))\n",
    "table=pd.DataFrame()\n",
    "\n",
    "for i,mol in enumerate(renamed_poses):\n",
    "    for j,jmol in enumerate(renamed_poses):   \n",
    "        # Substructure matching + RMSD calculation\n",
    "        rmsd = AllChem.CalcRMS(jmol, mol)\n",
    "        #saving the rmsd values to a matrix and a table for clustering\n",
    "        hmap[i,j]=rmsd\n",
    "        table.loc[mol.GetProp('_Name'),jmol.GetProp('_Name')]=rmsd\n",
    "\n",
    "# Check if the distance matrix is symmetric\n",
    "def check_symmetric(a, rtol=1e-010, atol=1e-010):\n",
    "    return np.allclose(a, a.T, rtol=rtol, atol=atol)\n",
    "\n",
    "check_symmetric(hmap)"
   ]
  },
  {
   "cell_type": "markdown",
   "id": "23f0c40a",
   "metadata": {},
   "source": [
    "## 4. Clustering of the poses: [SciPy average linkage](https://docs.scipy.org/doc/scipy/reference/generated/scipy.cluster.hierarchy.linkage.html#scipy.cluster.hierarchy.linkage) algorithm"
   ]
  },
  {
   "cell_type": "code",
   "execution_count": null,
   "id": "aa73f3b1",
   "metadata": {},
   "outputs": [],
   "source": [
    "# I will use the matrix that I generated before\n",
    "hmap_condensed = spatial.distance.squareform(hmap, checks=False) # Transform uncondensed to condensed matrix\n",
    "                                                                 # checks=False because I am sure the matrix is symmetrical\n",
    "linked = linkage(hmap_condensed,'average')\n",
    "labelList = [mol.GetProp('_Name') for mol in renamed_poses] # Labels for the dendrogram\n",
    "\n",
    "# Plot dendrogram\n",
    "plt.figure(figsize=(10,10))\n",
    "\n",
    "ax1=plt.subplot()\n",
    "o=dendrogram(linked,  \n",
    "            orientation='left',\n",
    "            labels=labelList,\n",
    "            distance_sort='descending',\n",
    "            show_leaf_counts=True,\n",
    "            link_color_func=lambda k: 'black' # Make the dendrogram black\n",
    "            )\n",
    "\n",
    "ax1.spines['left'].set_visible(False)\n",
    "ax1.spines['top'].set_visible(False)\n",
    "ax1.spines['right'].set_visible(False)\n",
    "plt.title('Pose clustering',fontsize=20,weight='bold')\n",
    "plt.tick_params ('both',width=2,labelsize=10)\n",
    "plt.tight_layout()\n",
    "plt.show() "
   ]
  },
  {
   "cell_type": "markdown",
   "id": "9cf8a9d6",
   "metadata": {},
   "source": [
    "The `color_threshold` argument of `dendrogram()` automatically picks a distance cut-off value of 70% of the final merge and colors the first clusters below that in different colors.\n",
    "\n",
    "The cophenetic correlation coefficient (very very briefly) compares (correlates) the actual pairwise distances of all your samples to those implied by the hierarchical clustering. The closer the value is to 1, the better the clustering preserves the original distances."
   ]
  },
  {
   "cell_type": "code",
   "execution_count": null,
   "id": "eb66e89d",
   "metadata": {},
   "outputs": [],
   "source": [
    "# Cophenetic correlation\n",
    "c, coph_dists = cophenet(linked, pdist(hmap))\n",
    "c"
   ]
  },
  {
   "cell_type": "markdown",
   "id": "e72b0aed",
   "metadata": {},
   "source": [
    "## 5. Determining the number of clusters\n",
    "### 5.1. Automatic cut-off selection\n",
    "While manual selection of a cut-off value offers a lot of benefits when it comes to checking for a meaningful clustering and cut-off, there are cases in which you want to automate this. The problem again is that there is no golden method to pick the number of clusters for all cases.\n",
    "\n",
    "The default method in `SciPy` is the inconsistency method. This method compares each merge's height, $h$, to the average heigth, $avg$, and normalizes it by the standard deviation, $std$, of the $depth$ previous levels.\n",
    "\n",
    "$$\n",
    "inconsistency = \\frac{h - avg}{std}\n",
    "$$\n",
    "\n",
    "Based on these results, I could pick a $depth$ and an $inconsistency$ limit to generate the clusters. Choosing a low $inconsistency$ limit will generate more clusters than choosing a high $inconsistency$ limit.\n",
    "\n",
    "### 5.2. Manual cut-off selection\n",
    "The inconsistency method is not ideal because it is very sensitive to the $depth$ parameter and the $inconsistency$ limit we set to create our clusters. There is no universal and consistent way to pick these parameters.\n",
    "\n",
    "Another problem in its calculation is that the previous $depth$ levels' heights aren't normally distributed, but expected to increase, so you can't really just calculate a normalized [$z$-score](https://en.wikipedia.org/wiki/Standard_score).\n",
    "\n",
    "So, I will just manually set a cutoff distance.\n",
    "\n",
    "#### Dendrogram"
   ]
  },
  {
   "cell_type": "code",
   "execution_count": null,
   "id": "0a16eaa8",
   "metadata": {},
   "outputs": [],
   "source": [
    "# Get clusters\n",
    "max_d = 3 # Cutoff distance of 3\n",
    "clusters = fcluster(linked, max_d, criterion='distance')\n",
    "k = max(clusters)\n",
    "\n",
    "# Set color palette\n",
    "color_palette = list(sns.color_palette(\"Spectral\", k).as_hex())\n",
    "hierarchy.set_link_color_palette(color_palette)\n",
    "\n",
    "# Plot dendrogram\n",
    "plt.figure(figsize=(8,8))\n",
    "\n",
    "ax1=plt.subplot()\n",
    "o=dendrogram(linked,  \n",
    "            orientation='left',\n",
    "            labels=labelList,\n",
    "            distance_sort='descending',\n",
    "            show_leaf_counts=True,\n",
    "            color_threshold = max_d\n",
    "            )\n",
    "\n",
    "ax1.spines['left'].set_visible(False)\n",
    "ax1.spines['top'].set_visible(False)\n",
    "ax1.spines['right'].set_visible(False)\n",
    "plt.title('Pose clustering',fontsize=20,weight='bold')\n",
    "plt.tick_params ('both',width=2,labelsize=10)\n",
    "plt.axvline(x=max_d, c='grey', lw=1, linestyle='dashed')\n",
    "plt.tight_layout()\n",
    "plt.show() "
   ]
  },
  {
   "cell_type": "markdown",
   "id": "6ee07ec6",
   "metadata": {},
   "source": [
    "#### Heatmap"
   ]
  },
  {
   "cell_type": "code",
   "execution_count": null,
   "id": "129b2dc6",
   "metadata": {},
   "outputs": [],
   "source": [
    "# This will give us the clusters in order as the last plot\n",
    "new_data=list(reversed(o['ivl']))\n",
    "\n",
    "# we create a new table with the order of HCL\n",
    "hmap_2=np.empty(shape=(size,size))\n",
    "for index,i in enumerate(new_data):\n",
    "    for jndex,j in enumerate(new_data):\n",
    "        hmap_2[index,jndex]=table.loc[i].at[j]\n",
    "\n",
    "figure= plt.figure(figsize=(30,30))\n",
    "gs1 = gridspec.GridSpec(2,7)\n",
    "gs1.update(wspace=0.01)\n",
    "ax1 = plt.subplot(gs1[0:-1, :2])\n",
    "dendrogram(linked,\n",
    "           orientation='left',\n",
    "           distance_sort='descending',\n",
    "           show_leaf_counts=True,\n",
    "           no_labels=True,\n",
    "           color_threshold = max_d\n",
    ")\n",
    "ax1.spines['left'].set_visible(False)\n",
    "ax1.spines['top'].set_visible(False)\n",
    "ax1.spines['right'].set_visible(False)\n",
    "plt.axvline(x=max_d, c='grey', lw=1, linestyle='dashed')\n",
    "\n",
    "ax2 = plt.subplot(gs1[0:-1,2:6])\n",
    "f=ax2.imshow (hmap_2, cmap='magma', interpolation='nearest')\n",
    "\n",
    "ax2.set_title('Pose clustering',fontsize=20,weight='bold')\n",
    "ax2.set_xticks (range(len(new_data)))\n",
    "ax2.set_yticks (range(len(new_data)))\n",
    "ax2.set_xticklabels (new_data,rotation=90)\n",
    "ax2.set_yticklabels (new_data)\n",
    "\n",
    "ax3 = plt.subplot(gs1[0:-1,6:7])\n",
    "m=plt.colorbar(f,cax=ax3,shrink=0.75,orientation='vertical',spacing='uniform',pad=0.01)\n",
    "m.set_label ('RMSD')\n",
    "\n",
    "plt.tick_params ('both',width=2,labelsize=9)\n",
    "plt.plot()"
   ]
  },
  {
   "cell_type": "code",
   "execution_count": null,
   "id": "eeea197f",
   "metadata": {},
   "outputs": [],
   "source": [
    "## Keep for analysis only clusters that contain more than X (e.g. 5) poses\n",
    "# Big clusters to keep\n",
    "bigclust = set()\n",
    "\n",
    "for pos, clustnum in enumerate(clusters):\n",
    "    membs = sum(clusters == clustnum)\n",
    "    if membs >= 5:\n",
    "        bigclust.add(clustnum)"
   ]
  },
  {
   "cell_type": "markdown",
   "id": "b3739907",
   "metadata": {},
   "source": [
    "## 6. Analyze results\n",
    "### 6.1. Docking score of each cluster"
   ]
  },
  {
   "cell_type": "code",
   "execution_count": null,
   "id": "9c320494",
   "metadata": {},
   "outputs": [],
   "source": [
    "# Make a cluster -> [poses] dictionary\n",
    "cluster_poses_dict = {}\n",
    "i = 0\n",
    "\n",
    "while i < len(clusters):\n",
    "    cluster = clusters[i]\n",
    "    cluster_poses_dict.setdefault(cluster, [])\n",
    "    cluster_poses_dict[cluster].append(int(labelList[i])) # Get correct pose labels\n",
    "    i+=1\n",
    "    \n",
    "# Get docking scores\n",
    "results_file = 'vina_output.pdbqt' # Vina results file (.pdbqt)\n",
    "\n",
    "scores = []\n",
    "\n",
    "with open(results_file, \"r\") as f: \n",
    "    lines = f.readlines()\n",
    "    for line in lines:\n",
    "        line = line.strip()\n",
    "        if line.startswith(\"REMARK VINA RESULT:\"):\n",
    "            fields = line.split()\n",
    "            score = float(fields[3])\n",
    "            scores.append(score)\n",
    "\n",
    "# Make a pandas data frame\n",
    "cluster_poses_score_todf = {'cluster':[] ,'pose':[], 'score':[]}\n",
    "\n",
    "for cluster in cluster_poses_dict:\n",
    "    for pose in cluster_poses_dict[cluster]:\n",
    "        score = scores[pose - 1]\n",
    "        cluster_poses_score_todf['cluster'].append(cluster)\n",
    "        cluster_poses_score_todf['pose'].append(pose)\n",
    "        cluster_poses_score_todf['score'].append(score)\n",
    "\n",
    "cluster_poses_score_df = pd.DataFrame(data = cluster_poses_score_todf)"
   ]
  },
  {
   "cell_type": "markdown",
   "id": "defd031b",
   "metadata": {},
   "source": [
    "Draw boxplots."
   ]
  },
  {
   "cell_type": "code",
   "execution_count": null,
   "id": "9d819aa5",
   "metadata": {},
   "outputs": [],
   "source": [
    "# Draw a boxplot\n",
    "sns.boxplot(data=cluster_poses_score_df[cluster_poses_score_df.cluster.isin(bigclust)],\n",
    "            x=\"cluster\", \n",
    "            y=\"score\", \n",
    "            palette = ['w'])\n",
    "\n",
    "sns.stripplot(data=cluster_poses_score_df[cluster_poses_score_df.cluster.isin(bigclust)],\n",
    "              x=\"cluster\",\n",
    "              y=\"score\", \n",
    "              palette = ['k']) "
   ]
  },
  {
   "cell_type": "markdown",
   "id": "1f93e09d",
   "metadata": {},
   "source": [
    "Visualize poses by cluster."
   ]
  },
  {
   "cell_type": "code",
   "execution_count": null,
   "id": "47e6f4d7",
   "metadata": {},
   "outputs": [],
   "source": [
    "# Select a cluster (e.g. 1) to visualize the poses that belong to it\n",
    "cluster = 1\n",
    "poses = cluster_poses_dict[cluster]\n",
    "mols = [renamed_poses[i-1] for i in poses] # List comprehension\n",
    "img = Draw.MolsToGridImage(mols, molsPerRow=3, useSVG=True, legends=[i.GetProp('_Name') for i in mols])\n",
    "img"
   ]
  },
  {
   "cell_type": "markdown",
   "id": "5ddde900",
   "metadata": {},
   "source": [
    "### 6.2. Calculate the RMSD from the docking poses to a reference (experimental) structure\n",
    "1. Find the maximum common substructure (MCS) of the docked and the reference ligand.\n",
    "2. Calculate the RMSD (MCS atoms) between the docked and the reference ligand."
   ]
  },
  {
   "cell_type": "code",
   "execution_count": null,
   "id": "7b0fb55c",
   "metadata": {},
   "outputs": [],
   "source": [
    "# Open reference pose (SDF file: reference_pose.sdf) and fix its bond order (fix wonky bonds)\n",
    "ref_arip = AllChem.AssignBondOrdersFromTemplate(goodconn, Chem.SDMolSupplier('reference_pose.sdf')[0]) \n",
    "\n",
    "# Create new empty column in the data frame\n",
    "cluster_poses_score_df[\"ref_rmsd\"] = \"\"\n",
    "\n",
    "# Calculate RMSD from docking poses to the reference pose\n",
    "i = 0\n",
    "\n",
    "for pose in renamed_poses:\n",
    "    pose_id = [int(i.GetProp('_Name')) for i in renamed_poses][i]    \n",
    "    rmsd = AllChem.CalcRMS(pose, ref_arip)\n",
    "    # Adding the rmsd to the data frame\n",
    "    row = cluster_poses_score_df[cluster_poses_score_df.pose == pose_id].index\n",
    "    cluster_poses_score_df.loc[row, \"ref_rmsd\"] = rmsd # Avoid SettingWithCopyWarning \n",
    "\n",
    "    i+=1"
   ]
  },
  {
   "cell_type": "markdown",
   "id": "9c47dcb4",
   "metadata": {},
   "source": [
    "What was the maximum common substructure used to calculate the RMSD?"
   ]
  },
  {
   "cell_type": "code",
   "execution_count": null,
   "id": "5a03b040",
   "metadata": {},
   "outputs": [],
   "source": [
    "# Find MCS\n",
    "template_and_poses = [ref_arip] + list(renamed_poses)\n",
    "mcs = rdFMCS.FindMCS(template_and_poses)\n",
    "\n",
    "# Draw\n",
    "DrawingOptions.bondLineWidth = 2\n",
    "DrawingOptions.includeAtomNumbers = False\n",
    "mcs_drawn=Draw.MolToImage(Chem.MolFromSmarts(mcs.smartsString), size = (600,400))\n",
    "mcs_drawn"
   ]
  },
  {
   "cell_type": "markdown",
   "id": "7e9ffc78",
   "metadata": {},
   "source": [
    "Draw boxplots."
   ]
  },
  {
   "cell_type": "code",
   "execution_count": null,
   "id": "6d67d6b7",
   "metadata": {},
   "outputs": [],
   "source": [
    "# Draw a boxplot\n",
    "sns.boxplot(data=cluster_poses_score_df[cluster_poses_score_df.cluster.isin(bigclust)], \n",
    "            x=\"cluster\", \n",
    "            y=\"ref_rmsd\", \n",
    "            palette = ['w'])\n",
    "\n",
    "sns.stripplot(data=cluster_poses_score_df[cluster_poses_score_df.cluster.isin(bigclust)], \n",
    "              x=\"cluster\", \n",
    "              y=\"ref_rmsd\", \n",
    "              palette = ['k']) "
   ]
  },
  {
   "cell_type": "markdown",
   "id": "672c01a9",
   "metadata": {},
   "source": [
    "### 6.3. Docking score vs. RMSD from reference\n",
    "Scatterplot."
   ]
  },
  {
   "cell_type": "code",
   "execution_count": null,
   "id": "bc4b4566",
   "metadata": {},
   "outputs": [],
   "source": [
    "# New palette bc there are less clusters\n",
    "l = len(set(bigclust))\n",
    "reduced_palette = list(sns.color_palette(\"Spectral\", l).as_hex())\n",
    "\n",
    "# Make plot bigger\n",
    "fig, ax = plt.subplots(figsize=(6, 6))\n",
    "sns.set(font_scale=1.5)\n",
    "sns.set_style(\"whitegrid\")\n",
    "\n",
    "# Scatterplot\n",
    "sns.scatterplot(data=cluster_poses_score_df[cluster_poses_score_df.cluster.isin(bigclust)], \n",
    "                x=\"ref_rmsd\", \n",
    "                y=\"score\", \n",
    "                hue = \"cluster\",\n",
    "                palette = reduced_palette,\n",
    "                legend = True)\n",
    "sns.move_legend(ax, \"upper left\", bbox_to_anchor=(1, 1))"
   ]
  }
 ],
 "metadata": {
  "kernelspec": {
   "display_name": "Python 3 (ipykernel)",
   "language": "python",
   "name": "python3"
  },
  "language_info": {
   "codemirror_mode": {
    "name": "ipython",
    "version": 3
   },
   "file_extension": ".py",
   "mimetype": "text/x-python",
   "name": "python",
   "nbconvert_exporter": "python",
   "pygments_lexer": "ipython3",
   "version": "3.9.13"
  }
 },
 "nbformat": 4,
 "nbformat_minor": 5
}
