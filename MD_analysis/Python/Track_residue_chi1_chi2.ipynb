{
 "cells": [
  {
   "cell_type": "markdown",
   "id": "bd7e16e8",
   "metadata": {},
   "source": [
    "# Analysis of residue $\\chi_1$ and $\\chi_2$ dihedrals\n",
    "## 0. Import packages and define paths"
   ]
  },
  {
   "cell_type": "code",
   "execution_count": null,
   "id": "7757d823",
   "metadata": {},
   "outputs": [],
   "source": [
    "# Packages\n",
    "import MDAnalysis as mda\n",
    "from MDAnalysis.analysis import dihedrals\n",
    "from MDAnalysis.analysis.dihedrals import Dihedral\n",
    "import pandas as pd \n",
    "import matplotlib.pyplot as plt\n",
    "import seaborn as sns"
   ]
  },
  {
   "cell_type": "code",
   "execution_count": null,
   "id": "bf1994bd",
   "metadata": {},
   "outputs": [],
   "source": [
    "# Directory that contains the trajectories\n",
    "traj_dir = \"\""
   ]
  },
  {
   "cell_type": "markdown",
   "id": "7493f760",
   "metadata": {},
   "source": [
    "## 1. Calculate dihedrals"
   ]
  },
  {
   "cell_type": "code",
   "execution_count": 1,
   "id": "09efdd82",
   "metadata": {},
   "outputs": [],
   "source": [
    "# Dictionary for saving the data before it gets converted to a data frame\n",
    "res_chi_dict = {\"replica\": [], \"frame\": [], \"chi1\":[], \"chi2\":[]} \n",
    "\n",
    "for rep in []: # Go over replicates\n",
    "    # Load universe\n",
    "    u = mda.Universe(traj_dir + \"structure.psf\", \n",
    "                     traj_dir + \"rep_\" + rep + \"/output_wrapped.xtc\")\n",
    "\n",
    "    # Select residue\n",
    "    res = u.select_atoms(\"protein and resid X\") # Change X by resid\n",
    "\n",
    "    # Run Janin plot\n",
    "    janin = mda.analysis.dihedrals.Janin(res).run()\n",
    "\n",
    "    # Append data to dictionary with while loop\n",
    "    i = 0\n",
    "    while i < len(janin.angles): # Number of frames of the simulation\n",
    "\n",
    "        res_chi_dict[\"replica\"].append(int(rep))   \n",
    "        res_chi_dict[\"frame\"].append(i + 1) # start at frame 1\n",
    "        res_chi_dict[\"chi1\"].append(janin.results.angles[i][0][0]) # For some reason, the list has an extra level\n",
    "        res_chi_dict[\"chi2\"].append(janin.results.angles[i][0][1])\n",
    "\n",
    "        i += 1"
   ]
  },
  {
   "cell_type": "markdown",
   "id": "5809fee5",
   "metadata": {},
   "source": [
    "## 2. Make data frame for analysis"
   ]
  },
  {
   "cell_type": "code",
   "execution_count": null,
   "id": "f8e92369",
   "metadata": {},
   "outputs": [],
   "source": [
    "res_chi_df = pd.DataFrame(res_chi_dict)\n",
    "res_chi_df"
   ]
  },
  {
   "cell_type": "markdown",
   "id": "ab5bf7ee",
   "metadata": {},
   "source": [
    "## 3. Plot\n",
    "### 3.1. $\\chi_1$ and $\\chi_2$ distribution"
   ]
  },
  {
   "cell_type": "code",
   "execution_count": null,
   "id": "60d8b72f",
   "metadata": {},
   "outputs": [],
   "source": [
    "# Plot style\n",
    "sns.set(rc={'figure.figsize': (6, 6)})\n",
    "sns.set(font_scale = 1.6)\n",
    "sns.set_style(\"whitegrid\")\n",
    "\n",
    "# Plot\n",
    "sns.kdeplot(data = res_chi_df, x = \"chi1\", y = \"chi2\", fill = True, color=\"#607CE3\")\n",
    "\n",
    "# Title, axes, etc.\n",
    "plt.xlim(0, 370)\n",
    "plt.ylim(0, 370)\n",
    "\n",
    "plt.title(\"Distribution of dihedrals\")\n",
    "plt.xlabel(r'$\\chi_{1} (^{o})$')\n",
    "plt.ylabel(r'$\\chi_{2} (^{o})$')"
   ]
  }
 ],
 "metadata": {
  "kernelspec": {
   "display_name": "Python 3 (ipykernel)",
   "language": "python",
   "name": "python3"
  },
  "language_info": {
   "codemirror_mode": {
    "name": "ipython",
    "version": 3
   },
   "file_extension": ".py",
   "mimetype": "text/x-python",
   "name": "python",
   "nbconvert_exporter": "python",
   "pygments_lexer": "ipython3",
   "version": "3.10.6"
  }
 },
 "nbformat": 4,
 "nbformat_minor": 5
}
